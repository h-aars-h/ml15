{
 "cells": [
  {
   "cell_type": "code",
   "execution_count": null,
   "id": "e93af3ea-130f-49d7-98c6-e42f79c53229",
   "metadata": {},
   "outputs": [],
   "source": [
    "# Q1: Explain the following with an example:\n",
    "\n",
    "# 1. Artificial Intelligence: Smart Application that can perform its own task with out any human intervention:\n",
    "# Example :Self driving cars and Robots.\n",
    "# 2. Machine Learning : Its provide Statical to analyze, Visulize, Predictive module ,forcasting, \n",
    "# Example : Amazon recommandation system , Netflix movies\n",
    "# 3. Deep Learning :Deep learning is a subset of machine learning, Mimc the human brain and the learn to machine how the work and take decision.\n",
    "# Example :chatbot, image processing"
   ]
  },
  {
   "cell_type": "code",
   "execution_count": null,
   "id": "c3631543-2011-4fce-b525-bbf889bafce0",
   "metadata": {},
   "outputs": [],
   "source": [
    "# Q2: What is supervised learning? List some examples of supervised learning.\n",
    "# Ans2: Supervised learning in two types classfication and Regression.\n",
    "# Classification algorithms are used when the output variable is categorical, which means there are two classes such as Yes-No, Male-Female, \n",
    "# True-false, etc.Example \n",
    "# No. of hours learning       NO of playing       Result \n",
    "#     8                            2               pass\n",
    "#     7                            3               pass\n",
    "#     6                            4               pass\n",
    "#     5                            5               pass\n",
    "#     4                            6               fail\n",
    "#     3                            7               fail\n",
    " \n",
    "# Regression algorithms are used if there is a relationship between the input variable and the output variable. It is used for the prediction\n",
    "# of continuous variables.\n",
    "#  Size of the House      and no. of the Rooms          price \n",
    "# The size of the house and no of rooms can pridict the price the room and the price is anything. this continous varible\n"
   ]
  },
  {
   "cell_type": "code",
   "execution_count": null,
   "id": "06a1aa53-5cfa-462a-ba38-a92078326c78",
   "metadata": {},
   "outputs": [],
   "source": [
    "# Q3: What is unsupervised learning? List some examples of unsupervised learning.\n",
    "# Ans3:Unsupervised learning is when it can provide a set of unlabelled data, which it is required to analyze and find patterns inside. and make cluster \n",
    "# and find the pattern Example: \n",
    "# Clustering: grouping similar data points together based on their characteristics.\n",
    "# Anomaly detection: identifying rare or unusual data points that deviate from the norm."
   ]
  },
  {
   "cell_type": "code",
   "execution_count": null,
   "id": "45271b9c-0e48-4dea-8d0d-d781b4601ca6",
   "metadata": {},
   "outputs": [],
   "source": [
    "# Q4: What is the difference between AI, ML, DL, and DS?\n",
    "# Ans4: AI, ML, DL, and DS are all related to the field of data science and have some overlapping concepts, but they are not the same thing.\n",
    "# AI is about creating machines that can perform tasks that require human-like intelligence.\n",
    "\n",
    "# ML is a way to make machines learn and improve their performance on a specific task without being explicitly programmed.\n",
    "\n",
    "# DL is a type of ML that uses neural networks with many layers to learn complex representations of data.\n",
    "\n",
    "# DS involves extracting, analyzing, and interpreting data from various sources to gain insights and knowledge for making informed decisions."
   ]
  },
  {
   "cell_type": "code",
   "execution_count": 1,
   "id": "65547acc-25cc-40be-be57-4b1be150f42f",
   "metadata": {},
   "outputs": [],
   "source": [
    "# Q5: What are the main differences between supervised, unsupervised, and semi-supervised learning?\n",
    "\n",
    "# Ans 5:Supervised learning involves training a machine learning model on labeled data, where the correct output or target variable is provided for\n",
    "# each input or feature. The goal of supervised learning is to learn a mapping between inputs and outputs, so that the model can make accurate\n",
    "# predictions on new, unseen data. Examples of supervised learning include classification and regression tasks.\n",
    "\n",
    "# Unsupervised learning, on the other hand, involves training a machine learning model on unlabeled data, without any target variable to guide\n",
    "# the learning process. The goal of unsupervised learning is typically to discover patterns or structure in the data, such as clustering or\n",
    "# dimensionality reduction.\n",
    "\n",
    "# Semi-supervised learning is a combination of supervised and unsupervised learning. It involves training a model on a mix of labeled and \n",
    "# unlabeled data, where the labeled data provides some supervision or guidance for the learning process, while the unlabeled data allows the\n",
    "# model to learn more general patterns or structure in the data. Semi-supervised learning is often used when labeled data is scarce or expensive \n",
    "# to obtain.\n",
    "\n",
    "# In summary, the main differences between supervised, unsupervised, and semi-supervised learning are the types of data they are trained\n",
    "# on (labeled vs. unlabeled vs. a combination of both) and the goals of the learning process (learning a mapping between inputs and outputsvs.\n",
    "# discovering patterns or structure in the data)."
   ]
  },
  {
   "cell_type": "code",
   "execution_count": 2,
   "id": "a58cd596-fdee-4412-86fd-061c809ca642",
   "metadata": {},
   "outputs": [],
   "source": [
    "# Q6: What is train, test and validation split? Explain the importance of each term.\n",
    "# Ans6: The training set is a subset of the data used to train the machine learning model. This data contains both the input features\n",
    "# and the corresponding output labels, which are used to teach the model how to make predictions on new, unseen data.\n",
    "\n",
    "# The test set is a subset of the data that is used to evaluate the performance of the trained model on new, unseen data. This data also\n",
    "# contains both the input features and the corresponding output labels, but the model has not seen this data during training.\n",
    "\n",
    "# The validation set is an additional subset of the data that is used to tune the hyperparameters of the model. Hyperparameters are the\n",
    "# settings that control the behavior of the model, such as the learning rate or the number of hidden layers in a neural network. \n",
    "# The validation set helps to prevent overfitting, which occurs when the model performs well on the training data but poorly on the test data.\n"
   ]
  },
  {
   "cell_type": "code",
   "execution_count": 3,
   "id": "31b11688-7a13-4642-911f-79773498147e",
   "metadata": {},
   "outputs": [],
   "source": [
    "# Q7: How can unsupervised learning be used in anomaly detection?\n",
    "# Ans 7:Unsupervised learning can be a powerful tool for anomaly detection because it allows us to identify patterns or \n",
    "# structure in data without the need for labeled examples of anomalies. Anomalies are rare events or observations that are \n",
    "# significantly different from the majority of the data, and they can be difficult to detect using traditional supervised learning techniques.\n",
    "# One common approach to using unsupervised learning for anomaly detection is to use clustering algorithms, such as k-means \n",
    "# or DBSCAN, to group similar data points together. This can help to identify clusters or groups of data points that are significantly \n",
    "# different from the majority of the data, which may indicate the presence of anomalies."
   ]
  },
  {
   "cell_type": "code",
   "execution_count": null,
   "id": "e2a51045-1917-4280-87f7-7dc5574e98fb",
   "metadata": {},
   "outputs": [],
   "source": [
    "Q8: List down some commonly used supervised learning algorithms and unsupervised learning algorithms.\n",
    "\n",
    "Ans 8:some commonly used supervised learning algorithms and unsupervised learning algorithms are\n",
    "Supervised Learning Algorithms:\n",
    "\n",
    "Linear Regression\n",
    "Logistic Regression\n",
    "Decision Trees\n",
    "Random Forest\n",
    "Support Vector Machines (SVM)\n",
    "K-Nearest Neighbors (KNN)\n",
    "Naive Bayes\n",
    "Neural Networks (Multi-Layer Perceptron)\n",
    "\n",
    "Unsupervised Learning Algorithms:\n",
    "\n",
    "K-Means Clustering\n",
    "DBSCAN Clustering\n",
    "Hierarchical Clustering\n",
    "Principal Component Analysis (PCA)\n",
    "Independent Component Analysis (ICA)\n",
    "Generative Adversarial Networks (GANs)\n",
    "Self-Organizing Maps (SOM)\n",
    "t-Distributed Stochastic Neighbor Embedding (t-SNE)"
   ]
  }
 ],
 "metadata": {
  "kernelspec": {
   "display_name": "Python 3 (ipykernel)",
   "language": "python",
   "name": "python3"
  },
  "language_info": {
   "codemirror_mode": {
    "name": "ipython",
    "version": 3
   },
   "file_extension": ".py",
   "mimetype": "text/x-python",
   "name": "python",
   "nbconvert_exporter": "python",
   "pygments_lexer": "ipython3",
   "version": "3.10.6"
  }
 },
 "nbformat": 4,
 "nbformat_minor": 5
}
